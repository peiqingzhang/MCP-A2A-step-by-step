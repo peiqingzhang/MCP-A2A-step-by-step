{
 "cells": [
  {
   "cell_type": "markdown",
   "id": "1",
   "metadata": {},
   "source": [
    "# MCP Weather Agent - Jupyter Notebook Version\n",
    "\n",
    "This notebook demonstrates a LangChain agent that uses MCP (Model Context Protocol) tools instead of local tools.\n",
    "\n",
    "## Setup\n",
    "1. Make sure your MCP server is running\n",
    "2. Set your OpenAI API key\n",
    "3. Run the cells below"
   ]
  },
  {
   "cell_type": "code",
   "execution_count": null,
   "id": "2",
   "metadata": {},
   "outputs": [],
   "source": [
    "# Install required packages\n",
    "!pip install langchain langchain-openai python-dotenv fastmcp"
   ]
  },
  {
   "cell_type": "code",
   "id": "3",
   "metadata": {},
   "outputs": [],
   "source": [
    "# Set your OpenAI API key\n",
    "%env OPENAI_API_KEY=your-openai-api-key-here"
   ]
  },
  {
   "cell_type": "code",
   "id": "4",
   "metadata": {},
   "outputs": [],
   "source": [
    "import os\n",
    "import asyncio\n",
    "import json\n",
    "from typing import Dict, Any\n",
    "from dotenv import load_dotenv\n",
    "from langchain_openai import ChatOpenAI\n",
    "from langchain.agents import AgentExecutor, create_react_agent\n",
    "from langchain.tools import Tool\n",
    "from langchain_core.prompts import PromptTemplate\n",
    "from fastmcp import Client\n",
    "\n",
    "# Load environment variables\n",
    "load_dotenv()\n",
    "\n",
    "# Initialize the LLM\n",
    "llm = ChatOpenAI(\n",
    "    model=\"gpt-4o-mini\",\n",
    "    temperature=0.7,\n",
    "    openai_api_key=os.getenv(\"OPENAI_API_KEY\")\n",
    ")\n",
    "\n",
    "# MCP Server URL \n",
    "MCP_SERVER_URL = \"your-mcp-server-url\"\n",
    "\n",
    "print(\"✅ Imports and LLM initialized\")"
   ]
  },
  {
   "cell_type": "code",
   "id": "5",
   "metadata": {},
   "outputs": [],
   "source": [
    "# Simple synchronous MCP client for Jupyter\n",
    "def call_mcp_tool_sync(tool_name: str, arguments: Dict[str, Any]) -> str:\n",
    "    \"\"\"Synchronous wrapper for MCP tool calls\"\"\"\n",
    "    async def _call_mcp_tool():\n",
    "        try:\n",
    "            async with Client(MCP_SERVER_URL) as client:\n",
    "                print(f\"🛠️ Calling MCP tool: {tool_name} with args: {arguments}\")\n",
    "                result = await client.call_tool(tool_name, arguments)\n",
    "                \n",
    "                if result.content and len(result.content) > 0:\n",
    "                    return result.content[0].text\n",
    "                else:\n",
    "                    return f\"No result from {tool_name}\"\n",
    "        except Exception as e:\n",
    "            return f\"Error calling {tool_name}: {str(e)}\"\n",
    "    \n",
    "    # Run the async function\n",
    "    try:\n",
    "        loop = asyncio.get_event_loop()\n",
    "        if loop.is_running():\n",
    "            # We're in Jupyter, create a new event loop in a thread\n",
    "            import nest_asyncio\n",
    "            nest_asyncio.apply()\n",
    "            return loop.run_until_complete(_call_mcp_tool())\n",
    "        else:\n",
    "            return asyncio.run(_call_mcp_tool())\n",
    "    except:\n",
    "        # Fallback: create new event loop\n",
    "        return asyncio.run(_call_mcp_tool())\n",
    "\n",
    "print(\"✅ MCP client functions defined\")"
   ]
  },
  {
   "cell_type": "code",
   "id": "6",
   "metadata": {},
   "outputs": [],
   "source": [
    "# Install nest_asyncio for Jupyter compatibility\n",
    "!pip install nest_asyncio"
   ]
  },
  {
   "cell_type": "code",
   "id": "7",
   "metadata": {},
   "outputs": [],
   "source": [
    "# Discover MCP tools and create LangChain tools\n",
    "async def discover_mcp_tools():\n",
    "    \"\"\"Discover available tools from MCP server\"\"\"\n",
    "    try:\n",
    "        async with Client(MCP_SERVER_URL) as client:\n",
    "            tools = await client.list_tools()\n",
    "            print(f\"🔗 Connected to MCP server! Found {len(tools)} tools:\")\n",
    "            for tool in tools:\n",
    "                print(f\"   • {tool.name}: {tool.description}\")\n",
    "            return tools\n",
    "    except Exception as e:\n",
    "        print(f\"❌ Failed to connect to MCP server: {e}\")\n",
    "        return []\n",
    "\n",
    "# Run discovery\n",
    "import nest_asyncio\n",
    "nest_asyncio.apply()\n",
    "\n",
    "mcp_tools = await discover_mcp_tools()"
   ]
  },
  {
   "cell_type": "code",
   "id": "8",
   "metadata": {},
   "outputs": [],
   "source": [
    "# Create LangChain tools from MCP tools\n",
    "def create_langchain_tool(mcp_tool):\n",
    "    \"\"\"Create a LangChain tool from an MCP tool\"\"\"\n",
    "    def tool_function(tool_input: str) -> str:\n",
    "        # Parse input - handle both JSON strings and plain strings\n",
    "        try:\n",
    "            if tool_input.startswith('{') and tool_input.endswith('}'):\n",
    "                arguments = json.loads(tool_input)\n",
    "            else:\n",
    "                # Treat as location for weather tools\n",
    "                arguments = {\"location\": tool_input.strip()}\n",
    "        except json.JSONDecodeError:\n",
    "            arguments = {\"location\": tool_input.strip()}\n",
    "        \n",
    "        return call_mcp_tool_sync(mcp_tool.name, arguments)\n",
    "    \n",
    "    return Tool(\n",
    "        name=mcp_tool.name,\n",
    "        description=mcp_tool.description or f\"MCP tool: {mcp_tool.name}\",\n",
    "        func=tool_function\n",
    "    )\n",
    "\n",
    "# Create LangChain tools\n",
    "langchain_tools = [create_langchain_tool(tool) for tool in mcp_tools]\n",
    "\n",
    "print(f\"✅ Created {len(langchain_tools)} LangChain tools from MCP server\")"
   ]
  },
  {
   "cell_type": "code",
   "id": "9",
   "metadata": {},
   "outputs": [],
   "source": [
    "# Create the LangChain agent\n",
    "template = '''You are a helpful weather assistant powered by MCP (Model Context Protocol). \n",
    "You provide weather-related information using remote weather intelligence tools.\n",
    "\n",
    "Answer the following questions as best you can. You have access to the following tools:\n",
    "\n",
    "{tools}\n",
    "\n",
    "Use the following format:\n",
    "\n",
    "Question: the input question you must answer\n",
    "Thought: you should always think about what to do\n",
    "Action: the action to take, should be one of [{tool_names}]\n",
    "Action Input: the input to the action\n",
    "Observation: the result of the action\n",
    "... (this Thought/Action/Action Input/Observation can repeat N times)\n",
    "Thought: I now know the final answer\n",
    "Final Answer: the final answer to the original input question\n",
    "\n",
    "Begin!\n",
    "\n",
    "Question: {input}\n",
    "Thought:{agent_scratchpad}'''\n",
    "\n",
    "prompt = PromptTemplate.from_template(template)\n",
    "\n",
    "agent = create_react_agent(\n",
    "    tools=langchain_tools,\n",
    "    llm=llm,\n",
    "    prompt=prompt\n",
    ")\n",
    "\n",
    "agent_executor = AgentExecutor(\n",
    "    agent=agent, \n",
    "    tools=langchain_tools, \n",
    "    verbose=True,\n",
    "    handle_parsing_errors=True\n",
    ")\n",
    "\n",
    "print(\"✅ MCP Weather Agent ready!\")"
   ]
  },
  {
   "cell_type": "markdown",
   "id": "10",
   "metadata": {},
   "source": [
    "## Test the MCP Weather Agent\n",
    "\n",
    "Now you can use the agent just like in your example! Use `agent_executor.invoke()` to ask weather questions:"
   ]
  },
  {
   "cell_type": "code",
   "id": "11",
   "metadata": {},
   "outputs": [],
   "source": [
    "# Test 1: Current weather\n",
    "agent_executor.invoke({\"input\": \"What is the weather in Oslo now?\"})"
   ]
  },
  {
   "cell_type": "code",
   "id": "12",
   "metadata": {},
   "outputs": [],
   "source": [
    "# Test 2: Weather forecast\n",
    "agent_executor.invoke({\"input\": \"Get tomorrow's weather forecast for Oslo.\"})"
   ]
  }
 ],
 "metadata": {
  "kernelspec": {
   "display_name": "Python 3 (ipykernel)",
   "language": "python",
   "name": "python3"
  },
  "language_info": {
   "codemirror_mode": {
    "name": "ipython",
    "version": 3
   },
   "file_extension": ".py",
   "mimetype": "text/x-python",
   "name": "python",
   "nbconvert_exporter": "python",
   "pygments_lexer": "ipython3",
   "version": "3.12.11"
  }
 },
 "nbformat": 4,
 "nbformat_minor": 5
}