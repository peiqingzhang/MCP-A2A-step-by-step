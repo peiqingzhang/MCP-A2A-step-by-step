{
 "cells": [
  {
   "cell_type": "markdown",
   "id": "1",
   "metadata": {},
   "source": [
    "# MCP Weather Agent - Jupyter Notebook Version\n",
    "\n",
    "This notebook demonstrates a LangChain agent that uses MCP (Model Context Protocol) tools instead of local tools.\n",
    "\n",
    "## Setup\n",
    "1. Make sure your MCP server is running\n",
    "2. Set your OpenAI API key\n",
    "3. Run the cells below"
   ]
  },
  {
   "cell_type": "code",
   "execution_count": null,
   "id": "2",
   "metadata": {},
   "outputs": [],
   "source": [
    "# Install required packages\n",
    "!pip install langchain langchain-openai python-dotenv fastmcp"
   ]
  },
  {
   "cell_type": "code",
   "execution_count": null,
   "id": "3",
   "metadata": {},
   "outputs": [],
   "source": [
    "# Set your OpenAI API key\n",
    "%env OPENAI_API_KEY='your-openai-api-key'"
   ]
  },
  {
   "cell_type": "code",
   "execution_count": null,
   "id": "4",
   "metadata": {},
   "outputs": [
    {
     "name": "stdout",
     "output_type": "stream",
     "text": [
      "✅ Imports and LLM initialized\n"
     ]
    }
   ],
   "source": [
    "import os\n",
    "import asyncio\n",
    "import json\n",
    "from typing import Dict, Any\n",
    "from dotenv import load_dotenv\n",
    "from langchain_openai import ChatOpenAI\n",
    "from langchain.agents import AgentExecutor, create_react_agent\n",
    "from langchain.tools import Tool\n",
    "from langchain_core.prompts import PromptTemplate\n",
    "from fastmcp import Client\n",
    "\n",
    "# Load environment variables\n",
    "load_dotenv()\n",
    "\n",
    "# Initialize the LLM\n",
    "llm = ChatOpenAI(\n",
    "    model=\"gpt-4o-mini\",\n",
    "    temperature=0.7,\n",
    "    openai_api_key=os.getenv(\"OPENAI_API_KEY\")\n",
    ")\n",
    "\n",
    "# MCP Server URL \n",
    "MCP_SERVER_URL = \"your-mcp-url\"\n",
    "\n",
    "print(\"✅ Imports and LLM initialized\")"
   ]
  },
  {
   "cell_type": "code",
   "execution_count": 7,
   "id": "5",
   "metadata": {},
   "outputs": [
    {
     "name": "stdout",
     "output_type": "stream",
     "text": [
      "✅ MCP client functions defined\n"
     ]
    }
   ],
   "source": [
    "# Simple synchronous MCP client for Jupyter\n",
    "def call_mcp_tool_sync(tool_name: str, arguments: Dict[str, Any]) -> str:\n",
    "    \"\"\"Synchronous wrapper for MCP tool calls\"\"\"\n",
    "    async def _call_mcp_tool():\n",
    "        try:\n",
    "            async with Client(MCP_SERVER_URL) as client:\n",
    "                print(f\"🛠️ Calling MCP tool: {tool_name} with args: {arguments}\")\n",
    "                result = await client.call_tool(tool_name, arguments)\n",
    "                \n",
    "                if result.content and len(result.content) > 0:\n",
    "                    result_text = result.content[0].text\n",
    "                    try:\n",
    "                        # Try to parse as JSON for structured formatting\n",
    "                        result_data = json.loads(result_text)\n",
    "                        return format_weather_result(tool_name, result_data, arguments)\n",
    "                    except json.JSONDecodeError:\n",
    "                        return result_text\n",
    "                else:\n",
    "                    return f\"No result from {tool_name}\"\n",
    "        except Exception as e:\n",
    "            return f\"Error calling {tool_name}: {str(e)}\"\n",
    "    \n",
    "    # Run the async function\n",
    "    try:\n",
    "        loop = asyncio.get_event_loop()\n",
    "        if loop.is_running():\n",
    "            # We're in Jupyter, create a new event loop in a thread\n",
    "            import nest_asyncio\n",
    "            nest_asyncio.apply()\n",
    "            return loop.run_until_complete(_call_mcp_tool())\n",
    "        else:\n",
    "            return asyncio.run(_call_mcp_tool())\n",
    "    except:\n",
    "        # Fallback: create new event loop\n",
    "        return asyncio.run(_call_mcp_tool())\n",
    "\n",
    "def format_weather_result(tool_name: str, data: Dict[str, Any], arguments: Dict[str, Any]) -> str:\n",
    "    \"\"\"Format weather data for display\"\"\"\n",
    "    if \"error\" in data:\n",
    "        return f\"Error: {data['error']}\"\n",
    "    \n",
    "    location = arguments.get('location', 'Unknown')\n",
    "    \n",
    "    if tool_name == \"get_current_weather\":\n",
    "        temp = data.get('temperature', 'N/A')\n",
    "        desc = data.get('description', 'N/A').title()\n",
    "        feels_like = data.get('feels_like', 'N/A')\n",
    "        humidity = data.get('humidity', 'N/A')\n",
    "        wind_speed = data.get('wind_speed', 'N/A')\n",
    "        pressure = data.get('pressure', 'N/A')\n",
    "        \n",
    "        return f\"\"\"Current weather in {location}:\n",
    "- Temperature: {temp}°C (feels like {feels_like}°C)\n",
    "- Condition: {desc}\n",
    "- Humidity: {humidity}%\n",
    "- Wind Speed: {wind_speed} m/s\n",
    "- Pressure: {pressure} hPa\"\"\"\n",
    "        \n",
    "    elif tool_name == \"get_weather_forecast\":\n",
    "        forecast = data.get('forecast', [])\n",
    "        days = len(forecast)\n",
    "        result = f\"{days}-day weather forecast for {location}:\\n\"\n",
    "        \n",
    "        for day in forecast:\n",
    "            date = day.get('date', 'N/A')\n",
    "            temp = day.get('temperature', 'N/A')\n",
    "            desc = day.get('description', 'N/A').title()\n",
    "            result += f\"- {date}: {temp}°C, {desc}\\n\"\n",
    "        \n",
    "        return result\n",
    "    \n",
    "    # Generic formatting\n",
    "    return json.dumps(data, indent=2)\n",
    "\n",
    "print(\"✅ MCP client functions defined\")"
   ]
  },
  {
   "cell_type": "code",
   "execution_count": null,
   "id": "6",
   "metadata": {},
   "outputs": [],
   "source": [
    "# Install nest_asyncio for Jupyter compatibility\n",
    "!pip install nest_asyncio"
   ]
  },
  {
   "cell_type": "code",
   "execution_count": 3,
   "id": "7",
   "metadata": {},
   "outputs": [
    {
     "name": "stdout",
     "output_type": "stream",
     "text": [
      "🔗 Connected to MCP server! Found 2 tools:\n",
      "   • get_current_weather: \n",
      "Get current weather for a specific location using OpenWeatherMap API 2.5.\n",
      "\n",
      "Args:\n",
      "    location: City name or location (e.g., \"London\", \"New York\", \"Tokyo\")\n",
      "    \n",
      "Returns:\n",
      "    Dictionary with current weather information\n",
      "\n",
      "   • get_weather_forecast: \n",
      "Get weather forecast for a specific location using OpenWeatherMap API 2.5.\n",
      "\n",
      "Args:\n",
      "    location: City name or location\n",
      "    days: Number of days to forecast (max 5)\n",
      "    \n",
      "Returns:\n",
      "    Dictionary with forecast information\n",
      "\n"
     ]
    }
   ],
   "source": [
    "# Discover MCP tools and create LangChain tools\n",
    "async def discover_mcp_tools():\n",
    "    \"\"\"Discover available tools from MCP server\"\"\"\n",
    "    try:\n",
    "        async with Client(MCP_SERVER_URL) as client:\n",
    "            tools = await client.list_tools()\n",
    "            print(f\"🔗 Connected to MCP server! Found {len(tools)} tools:\")\n",
    "            for tool in tools:\n",
    "                print(f\"   • {tool.name}: {tool.description}\")\n",
    "            return tools\n",
    "    except Exception as e:\n",
    "        print(f\"❌ Failed to connect to MCP server: {e}\")\n",
    "        return []\n",
    "\n",
    "# Run discovery\n",
    "import nest_asyncio\n",
    "nest_asyncio.apply()\n",
    "\n",
    "mcp_tools = await discover_mcp_tools()"
   ]
  },
  {
   "cell_type": "code",
   "execution_count": 4,
   "id": "8",
   "metadata": {},
   "outputs": [
    {
     "name": "stdout",
     "output_type": "stream",
     "text": [
      "✅ Created 2 LangChain tools from MCP server\n"
     ]
    }
   ],
   "source": [
    "# Create LangChain tools from MCP tools\n",
    "def create_langchain_tool(mcp_tool):\n",
    "    \"\"\"Create a LangChain tool from an MCP tool\"\"\"\n",
    "    def tool_function(tool_input: str) -> str:\n",
    "        # Parse input - handle both JSON strings and plain strings\n",
    "        try:\n",
    "            if tool_input.startswith('{') and tool_input.endswith('}'):\n",
    "                arguments = json.loads(tool_input)\n",
    "            else:\n",
    "                # Treat as location for weather tools\n",
    "                arguments = {\"location\": tool_input.strip()}\n",
    "        except json.JSONDecodeError:\n",
    "            arguments = {\"location\": tool_input.strip()}\n",
    "        \n",
    "        return call_mcp_tool_sync(mcp_tool.name, arguments)\n",
    "    \n",
    "    return Tool(\n",
    "        name=mcp_tool.name,\n",
    "        description=mcp_tool.description or f\"MCP tool: {mcp_tool.name}\",\n",
    "        func=tool_function\n",
    "    )\n",
    "\n",
    "# Create LangChain tools\n",
    "langchain_tools = [create_langchain_tool(tool) for tool in mcp_tools]\n",
    "\n",
    "print(f\"✅ Created {len(langchain_tools)} LangChain tools from MCP server\")"
   ]
  },
  {
   "cell_type": "code",
   "execution_count": 5,
   "id": "9",
   "metadata": {},
   "outputs": [
    {
     "name": "stdout",
     "output_type": "stream",
     "text": [
      "✅ MCP Weather Agent ready!\n"
     ]
    }
   ],
   "source": [
    "# Create the LangChain agent\n",
    "template = '''You are a helpful weather assistant powered by MCP (Model Context Protocol). \n",
    "You provide weather-related information using remote weather intelligence tools.\n",
    "\n",
    "Answer the following questions as best you can. You have access to the following tools:\n",
    "\n",
    "{tools}\n",
    "\n",
    "Use the following format:\n",
    "\n",
    "Question: the input question you must answer\n",
    "Thought: you should always think about what to do\n",
    "Action: the action to take, should be one of [{tool_names}]\n",
    "Action Input: the input to the action\n",
    "Observation: the result of the action\n",
    "... (this Thought/Action/Action Input/Observation can repeat N times)\n",
    "Thought: I now know the final answer\n",
    "Final Answer: the final answer to the original input question\n",
    "\n",
    "Begin!\n",
    "\n",
    "Question: {input}\n",
    "Thought:{agent_scratchpad}'''\n",
    "\n",
    "prompt = PromptTemplate.from_template(template)\n",
    "\n",
    "agent = create_react_agent(\n",
    "    tools=langchain_tools,\n",
    "    llm=llm,\n",
    "    prompt=prompt\n",
    ")\n",
    "\n",
    "agent_executor = AgentExecutor(\n",
    "    agent=agent, \n",
    "    tools=langchain_tools, \n",
    "    verbose=True,\n",
    "    handle_parsing_errors=True\n",
    ")\n",
    "\n",
    "print(\"✅ MCP Weather Agent ready!\")"
   ]
  },
  {
   "cell_type": "markdown",
   "id": "10",
   "metadata": {},
   "source": [
    "## Test the MCP Weather Agent\n",
    "\n",
    "Now you can use the agent just like in your example! Use `agent_executor.invoke()` to ask weather questions:"
   ]
  },
  {
   "cell_type": "code",
   "execution_count": 8,
   "id": "11",
   "metadata": {},
   "outputs": [
    {
     "name": "stdout",
     "output_type": "stream",
     "text": [
      "\n",
      "\n",
      "\u001b[1m> Entering new AgentExecutor chain...\u001b[0m\n",
      "\u001b[32;1m\u001b[1;3mI need to get the current weather information for Oslo. \n",
      "Action: get_current_weather\n",
      "Action Input: \"Oslo\"\u001b[0m🛠️ Calling MCP tool: get_current_weather with args: {'location': 'Oslo'}\n",
      "\u001b[36;1m\u001b[1;3mCurrent weather in Oslo:\n",
      "- Temperature: 8.64°C (feels like 8.64°C)\n",
      "- Condition: Overcast Clouds\n",
      "- Humidity: 92%\n",
      "- Wind Speed: 0.95 m/s\n",
      "- Pressure: 1032 hPa\u001b[0m\u001b[32;1m\u001b[1;3mI now know the final answer. \n",
      "Final Answer: The current weather in Oslo is 8.64°C with overcast clouds, a humidity of 92%, and a wind speed of 0.95 m/s.\u001b[0m\n",
      "\n",
      "\u001b[1m> Finished chain.\u001b[0m\n"
     ]
    },
    {
     "data": {
      "text/plain": [
       "{'input': 'What is the weather in Oslo now?',\n",
       " 'output': 'The current weather in Oslo is 8.64°C with overcast clouds, a humidity of 92%, and a wind speed of 0.95 m/s.'}"
      ]
     },
     "execution_count": 8,
     "metadata": {},
     "output_type": "execute_result"
    }
   ],
   "source": [
    "# Test 1: Current weather\n",
    "agent_executor.invoke({\"input\": \"What is the weather in Oslo now?\"})"
   ]
  },
  {
   "cell_type": "code",
   "execution_count": null,
   "id": "12",
   "metadata": {},
   "outputs": [],
   "source": [
    "# Test 2: Weather forecast\n",
    "agent_executor.invoke({\"input\": \"Get tomorrow's weather forecast for Oslo.\"})"
   ]
  },
  {
   "cell_type": "markdown",
   "id": "17",
   "metadata": {},
   "source": [
    "## Key Differences from Local Tools\n",
    "\n",
    "This notebook demonstrates:\n",
    "\n",
    "1. **Dynamic Tool Discovery**: Tools are discovered from the MCP server automatically\n",
    "2. **Remote Execution**: All weather logic runs on the MCP server\n",
    "3. **Protocol Compliance**: Uses standard MCP protocol for communication\n",
    "4. **Same Interface**: Works exactly like local tools from LangChain's perspective\n",
    "\n",
    "The agent behaves identically to your local tools version, but all the weather intelligence comes from the remote MCP server!"
   ]
  }
 ],
 "metadata": {
  "kernelspec": {
   "display_name": "Python 3 (ipykernel)",
   "language": "python",
   "name": "python3"
  },
  "language_info": {
   "codemirror_mode": {
    "name": "ipython",
    "version": 3
   },
   "file_extension": ".py",
   "mimetype": "text/x-python",
   "name": "python",
   "nbconvert_exporter": "python",
   "pygments_lexer": "ipython3",
   "version": "3.12.11"
  }
 },
 "nbformat": 4,
 "nbformat_minor": 5
}
