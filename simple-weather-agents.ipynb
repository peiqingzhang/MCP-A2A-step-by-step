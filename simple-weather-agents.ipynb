{
 "cells": [
  {
   "cell_type": "markdown",
   "metadata": {},
   "source": [
    "# Simple Weather Agents\n",
    "\n",
    "This notebook demonstrates the difference between a LangChain agent with and without tools."
   ]
  },
  {
   "cell_type": "markdown",
   "metadata": {},
   "source": [
    "## 1. Setup\n",
    "\n",
    "First, let's install the necessary packages and set up our environment variables."
   ]
  },
  {
   "cell_type": "code",
   "execution_count": null,
   "metadata": {},
   "outputs": [],
   "source": [
    "!pip install langchain langchain-openai python-dotenv requests"
   ]
  },
  {
   "cell_type": "code",
   "execution_count": null,
   "metadata": {},
   "outputs": [],
   "source": [
    "import os\n",
    "from dotenv import load_dotenv\n",
    "\n",
    "# Load environment variables from .env file\n",
    "load_dotenv()\n",
    "\n",
    "# Set your OpenAI API key\n",
    "# Make sure to have a .env file with OPENAI_API_KEY='your-key'\n",
    "# or set it directly here\n",
    "# os.environ[\"OPENAI_API_KEY\"] = \"your-openai-api-key-here\"\n",
    "\n",
    "# Set your OpenWeatherMap API key\n",
    "# Make sure to have a .env file with OPENWEATHERMAP_API_KEY='your-key'\n",
    "# or set it directly here\n",
    "# os.environ[\"OPENWEATHERMAP_API_KEY\"] = \"your-openweathermap-api-key-here\""
   ]
  },
  {
   "cell_type": "markdown",
   "metadata": {},
   "source": [
    "## Part 1: Agent Without Tools\n",
    "\n",
    "This first agent is a simple LLM chain that has no access to external tools. It can only answer questions based on its pre-existing knowledge."
   ]
  },
  {
   "cell_type": "code",
   "execution_count": null,
   "metadata": {},
   "outputs": [],
   "source": [
    "from langchain_openai import ChatOpenAI\n",
    "from langchain.schema import HumanMessage, SystemMessage\n",
    "\n",
    "# Initialize the LLM\n",
    "llm = ChatOpenAI(\n",
    "    model=\"gpt-4o-mini\",\n",
    "    temperature=0.7,\n",
    "    openai_api_key=os.getenv(\"OPENAI_API_KEY\")\n",
    ")\n",
    "\n",
    "# System prompt to guide the agent's behavior\n",
    "WEATHER_SYSTEM_PROMPT = \"\"\"You are a helpful weather assistant. You provide weather-related information, \n",
    "advice, and insights based on general meteorological knowledge.\n",
    "\n",
    "Remember: You don't have access to real-time weather data, but you can provide general \n",
    "weather knowledge, seasonal patterns, and practical advice.\"\"\"\n",
    "\n",
    "def get_weather_response_no_tools(query: str) -> str:\n",
    "    \"\"\"Gets a weather-related response using the LLM without any tools.\"\"\"\n",
    "    messages = [\n",
    "        SystemMessage(content=WEATHER_SYSTEM_PROMPT),\n",
    "        HumanMessage(content=query)\n",
    "    ]\n",
    "    \n",
    "    response = llm.invoke(messages)\n",
    "    return response.content"
   ]
  },
  {
   "cell_type": "markdown",
   "metadata": {},
   "source": [
    "### Example: Asking for real-time weather\n",
    "\n",
    "Let's see what happens when we ask the agent for the current weather. Notice how it correctly states that it does not have access to real-time data."
   ]
  },
  {
   "cell_type": "code",
   "execution_count": null,
   "metadata": {},
   "outputs": [],
   "source": [
    "user_query = \"What is the weather in Oslo now?\"\n",
    "response = get_weather_response_no_tools(user_query)\n",
    "print(response)"
   ]
  },
  {
   "cell_type": "markdown",
   "metadata": {},
   "source": [
    "## Part 2: Agent With Tools\n",
    "\n",
    "Now, let's create a more powerful agent by giving it access to tools. In this case, we'll provide it with tools to get the current weather and a forecast from the OpenWeatherMap API."
   ]
  },
  {
   "cell_type": "code",
   "execution_count": null,
   "metadata": {},
   "outputs": [],
   "source": [
    "import requests\n",
    "from langchain.agents import AgentExecutor, create_react_agent\n",
    "from langchain.tools import tool\n",
    "from langchain_core.prompts import PromptTemplate\n",
    "\n",
    "# OpenWeatherMap configuration\n",
    "WEATHER_API_KEY = os.getenv(\"OPENWEATHERMAP_API_KEY\")\n",
    "WEATHER_BASE_URL = \"http://api.openweathermap.org/data/2.5\"\n",
    "\n",
    "# Define the tools\n",
    "@tool\n",
    "def get_current_weather(location: str) -> str:\n",
    "    \"\"\"Get current weather for a specific location.\"\"\"\n",
    "    try:\n",
    "        url = f\"{WEATHER_BASE_URL}/weather\"\n",
    "        params = {\"q\": location, \"appid\": WEATHER_API_KEY, \"units\": \"metric\"}\n",
    "        response = requests.get(url, params=params)\n",
    "        response.raise_for_status()\n",
    "        data = response.json()\n",
    "        \n",
    "        temp = data[\"main\"][\"temp\"]\n",
    "        feels_like = data[\"main\"][\"feels_like\"]\n",
    "        description = data[\"weather\"][0][\"description\"]\n",
    "        \n",
    "        return f\"Current weather in {location}: {temp}°C (feels like {feels_like}°C), {description}.\"\n",
    "        \n",
    "    except requests.RequestException as e:\n",
    "        return f\"Error fetching weather data: {e}\"\n",
    "\n",
    "@tool\n",
    "def get_weather_forecast(location: str) -> str:\n",
    "    \"\"\"Get the 5-day weather forecast for a specific location.\"\"\"\n",
    "    try:\n",
    "        url = f\"{WEATHER_BASE_URL}/forecast\"\n",
    "        params = {\"q\": location, \"appid\": WEATHER_API_KEY, \"units\": \"metric\"}\n",
    "        response = requests.get(url, params=params)\n",
    "        response.raise_for_status()\n",
    "        data = response.json()\n",
    "        \n",
    "        # Process and format the forecast data\n",
    "        forecast_info = f\"5-day weather forecast for {location}:\\n\"\n",
    "        for item in data[\"list\"][::8]:  # Get one forecast per day\n",
    "            date = item[\"dt_txt\"][:10]\n",
    "            temp = item[\"main\"][\"temp\"]\n",
    "            description = item[\"weather\"][0][\"description\"]\n",
    "            forecast_info += f\"- {date}: {temp}°C, {description}\\n\"\n",
    "        \n",
    "        return forecast_info\n",
    "        \n",
    "    except requests.RequestException as e:\n",
    "        return f\"Error fetching forecast data: {e}\"\n",
    "\n",
    "# Create the agent with tools\n",
    "tools = [get_current_weather, get_weather_forecast]\n",
    "\n",
    "template = '''You are a helpful weather assistant. You provide weather-related information.\n",
    "Answer the following questions as best you can. You have access to the following tools:\n",
    "{tools}\n",
    "Use the following format:\n",
    "Question: the input question you must answer\n",
    "Thought: you should always think about what to do\n",
    "Action: the action to take, should be one of [{tool_names}]\n",
    "Action Input: the input to the action\n",
    "Observation: the result of the action\n",
    "... (this Thought/Action/Action Input/Observation can repeat N times)\n",
    "Thought: I now know the final answer\n",
    "Final Answer: the final answer to the original input question\n",
    "Begin!\n",
    "Question: {input}\n",
    "Thought:{agent_scratchpad}'''\n",
    "\n",
    "prompt = PromptTemplate.from_template(template)\n",
    "\n",
    "agent = create_react_agent(\n",
    "    tools=tools,\n",
    "    llm=llm,\n",
    "    prompt=prompt\n",
    ")\n",
    "\n",
    "agent_executor = AgentExecutor(agent=agent, tools=tools, verbose=True)"
   ]
  },
  {
   "cell_type": "markdown",
   "metadata": {},
   "source": [
    "### Example: Asking for real-time weather with the tooled agent\n",
    "\n",
    "Now, when we ask for the current weather, the agent uses the `get_current_weather` tool to fetch real-time data."
   ]
  },
  {
   "cell_type": "code",
   "execution_count": null,
   "metadata": {},
   "outputs": [],
   "source": [
    "agent_executor.invoke({\"input\": \"What is the weather in Oslo now?\"})"
   ]
  },
  {
   "cell_type": "markdown",
   "metadata": {},
   "source": [
    "## Conclusion\n",
    "\n",
    "This notebook has shown the power of giving tools to an LLM agent. Without tools, the agent is limited to its internal knowledge. With tools, it can interact with the outside world to get real-time information and perform actions."
   ]
  }
 ],
 "metadata": {
  "kernelspec": {
   "display_name": "Python 3 (ipykernel)",
   "language": "python",
   "name": "python3"
  },
  "language_info": {
   "codemirror_mode": {
    "name": "ipython",
    "version": 3
   },
   "file_extension": ".py",
   "mimetype": "text/x-python",
   "name": "python",
   "nbconvert_exporter": "python",
   "pygments_lexer": "ipython3",
   "version": "3.12.11"
  }
 },
 "nbformat": 4,
 "nbformat_minor": 4
}
