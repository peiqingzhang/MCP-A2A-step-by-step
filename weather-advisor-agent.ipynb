{
 "cells": [
  {
   "cell_type": "markdown",
   "metadata": {},
   "source": [
    "# Weather Advisor Agent\n",
    "\n",
    "This notebook demonstrates how to build a weather advisor agent that uses the deployed A2A weather agent as a tool to provide intelligent recommendations."
   ]
  },
  {
   "cell_type": "code",
   "execution_count": null,
   "metadata": {},
   "outputs": [],
   "source": [
    "# Install required packages\n",
    "!pip install langchain langchain-openai a2a-sdk httpx click nest-asyncio"
   ]
  },
  {
   "cell_type": "markdown",
   "metadata": {},
   "source": [
    "## 1. Setup"
   ]
  },
  {
   "cell_type": "code",
   "execution_count": null,
   "metadata": {},
   "outputs": [],
   "source": [
    "import os\n",
    "import warnings\n",
    "warnings.filterwarnings('ignore')\n",
    "\n",
    "import asyncio\n",
    "from uuid import uuid4\n",
    "from typing import Any, Dict\n",
    "\n",
    "import httpx\n",
    "import nest_asyncio\n",
    "from langchain_openai import ChatOpenAI\n",
    "from langchain.agents import AgentExecutor, create_react_agent\n",
    "from langchain.tools import Tool\n",
    "from langchain_core.prompts import PromptTemplate\n",
    "from a2a.client import A2ACardResolver, A2AClient\n",
    "from a2a.types import MessageSendParams, SendMessageRequest\n",
    "\n",
    "# Apply nest_asyncio to allow running async code in Jupyter\n",
    "nest_asyncio.apply()\n",
    "\n",
    "# --- Configuration ---\n",
    "# Set your OpenAI API key\n",
    "os.environ[\"OPENAI_API_KEY\"] = \"you-openai-api-key\"\n",
    "\n",
    "# URL of your deployed weather agent\n",
    "WEATHER_AGENT_URL = \"your-weather-agent-url\""
   ]
  },
  {
   "cell_type": "markdown",
   "metadata": {},
   "source": [
    "## 2. Create a LangChain Tool for the Weather Agent"
   ]
  },
  {
   "cell_type": "code",
   "execution_count": 2,
   "metadata": {},
   "outputs": [],
   "source": [
    "def call_weather_agent(query: str) -> str:\n",
    "    \"\"\"Calls the deployed A2A weather agent and returns the result.\"\"\"\n",
    "\n",
    "    async def _call_agent():\n",
    "        async with httpx.AsyncClient(timeout=60.0) as httpx_client:\n",
    "            try:\n",
    "                resolver = A2ACardResolver(httpx_client=httpx_client, base_url=WEATHER_AGENT_URL)\n",
    "                agent_card = await resolver.get_agent_card()\n",
    "\n",
    "                client = A2AClient(httpx_client=httpx_client, agent_card=agent_card)\n",
    "\n",
    "                send_message_payload: Dict[str, Any] = {\n",
    "                    'message': {\n",
    "                        'role': 'user',\n",
    "                        'parts': [{'kind': 'text', 'text': query}],\n",
    "                        'message_id': uuid4().hex,\n",
    "                    },\n",
    "                }\n",
    "                request = SendMessageRequest(\n",
    "                    id=str(uuid4()), params=MessageSendParams(**send_message_payload)\n",
    "                )\n",
    "\n",
    "                response = await client.send_message(request)\n",
    "\n",
    "                if response.root.result and response.root.result.artifacts:\n",
    "                    return response.root.result.artifacts[0].parts[0].root.text\n",
    "                else:\n",
    "                    return \"No response from weather agent.\"\n",
    "\n",
    "            except Exception as e:\n",
    "                return f\"Error calling weather agent: {e}\"\n",
    "\n",
    "    return asyncio.run(_call_agent())\n",
    "\n",
    "weather_tool = Tool(\n",
    "    name=\"GetWeatherData\",\n",
    "    description=\"Gets the current weather or forecast for a given location. Input should be a clear question about the weather (e.g., 'What is the weather in London?').\",\n",
    "    func=call_weather_agent,\n",
    ")"
   ]
  },
  {
   "cell_type": "markdown",
   "metadata": {},
   "source": [
    "## 3. Create the Weather Advisor Agent"
   ]
  },
  {
   "cell_type": "code",
   "execution_count": 3,
   "metadata": {},
   "outputs": [],
   "source": [
    "llm = ChatOpenAI(model=\"gpt-4o-mini\", temperature=0.7)\n",
    "\n",
    "tools = [weather_tool]\n",
    "\n",
    "template_lines = [\n",
    "    \"You are a weather intelligence analyst. You analyze weather data and provide comprehensive recommendations.\\n\",\n",
    "    \"\\n\",\n",
    "    \"Your capabilities:\\n\",\n",
    "    \"1. Analyze current conditions and weather trends\\n\",\n",
    "    \"2. Provide clothing and outfit recommendations\\n\",\n",
    "    \"3. Suggest suitable indoor and outdoor activities\\n\",\n",
    "    \"4. Identify weather warnings and safety concerns\\n\",\n",
    "    \"\\n\",\n",
    "    \"To get weather data, use the 'GetWeatherData' tool. The tool takes a clear question about the weather as input.\\n\",\n",
    "    \"\\n\",\n",
    "    \"Answer the following questions as best you can. You have access to the following tools:\\n\",\n",
    "    \"\\n\",\n",
    "    \"{tools}\\n\",\n",
    "    \"\\n\",\n",
    "    \"Use the following format:\\n\",\n",
    "    \"\\n\",\n",
    "    \"Question: the input question you must answer\\n\",\n",
    "    \"Thought: you should always think about what to do\\n\",\n",
    "    \"Action: the action to take, should be one of [{tool_names}]\\n\",\n",
    "    \"Action Input: the input to the action\\n\",\n",
    "    \"Observation: the result of the action\\n\",\n",
    "    \"... (this Thought/Action/Action Input/Observation can repeat N times)\\n\",\n",
    "    \"Thought: I now know the final answer\\n\",\n",
    "    \"Final Answer: the final answer to the original input question\\n\",\n",
    "    \"\\n\",\n",
    "    \"Begin!\\n\",\n",
    "    \"\\n\",\n",
    "    \"Question: {input}\\n\",\n",
    "    \"Thought:{agent_scratchpad}\"\n",
    "]\n",
    "template = \"\".join(template_lines)\n",
    "prompt = PromptTemplate.from_template(template)\n",
    "agent = create_react_agent(\n",
    "    tools=tools,\n",
    "    llm=llm,\n",
    "    prompt=prompt\n",
    ")\n",
    "agent_executor = AgentExecutor(\n",
    "    agent=agent, \n",
    "    tools=tools, \n",
    "    verbose=True,\n",
    "    handle_parsing_errors=True\n",
    ")"
   ]
  },
  {
   "cell_type": "markdown",
   "metadata": {},
   "source": [
    "## 4. Test the Weather Advisor Agent"
   ]
  },
  {
   "cell_type": "code",
   "execution_count": 4,
   "metadata": {},
   "outputs": [
    {
     "name": "stdout",
     "output_type": "stream",
     "text": [
      "\n",
      "\n",
      "\u001b[1m> Entering new AgentExecutor chain...\u001b[0m\n",
      "\u001b[32;1m\u001b[1;3mI need to find out the weather forecast for New York tomorrow to provide appropriate clothing recommendations and activity suggestions. \n",
      "\n",
      "Action: GetWeatherData  \n",
      "Action Input: \"What is the weather in New York tomorrow?\"  \u001b[0m\u001b[36;1m\u001b[1;3mThe weather in New York tomorrow (September 28, 2025) is expected to have a temperature of around 23.3°C with broken clouds.\u001b[0m\u001b[32;1m\u001b[1;3mI now know the expected weather conditions for New York tomorrow, which includes a mild temperature and some cloud cover. \n",
      "\n",
      "1. **Clothing Recommendations**: Given that the temperature is around 23.3°C (approximately 74°F) and with broken clouds, a light jacket or sweater may be advisable for the evening, but during the day, a t-shirt or a light long-sleeve shirt paired with comfortable pants or shorts would be appropriate. \n",
      "\n",
      "2. **Activity Suggestions**: The pleasant weather conditions suggest that both indoor and outdoor activities are suitable. You could enjoy a stroll in Central Park, visit outdoor markets, or check out some outdoor dining options. If you prefer indoor activities, consider visiting a museum or catching a show.\n",
      "\n",
      "Final Answer: Tomorrow in New York, wear a t-shirt or light long-sleeve shirt with comfortable pants or shorts, and bring a light jacket for the evening. Enjoy outdoor activities like a stroll in Central Park or indoor activities like visiting a museum.\u001b[0m\n",
      "\n",
      "\u001b[1m> Finished chain.\u001b[0m\n"
     ]
    },
    {
     "data": {
      "text/plain": [
       "{'input': \"I'm in New York tomorrow. What should I wear and what should I do?\",\n",
       " 'output': 'Tomorrow in New York, wear a t-shirt or light long-sleeve shirt with comfortable pants or shorts, and bring a light jacket for the evening. Enjoy outdoor activities like a stroll in Central Park or indoor activities like visiting a museum.'}"
      ]
     },
     "execution_count": 4,
     "metadata": {},
     "output_type": "execute_result"
    }
   ],
   "source": [
    "agent_executor.invoke({\"input\": \"I'm in New York tomorrow. What should I wear and what should I do?\"})"
   ]
  }
 ],
 "metadata": {
  "kernelspec": {
   "display_name": "fast_mcp",
   "language": "python",
   "name": "python3"
  },
  "language_info": {
   "codemirror_mode": {
    "name": "ipython",
    "version": 3
   },
   "file_extension": ".py",
   "mimetype": "text/x-python",
   "name": "python",
   "nbconvert_exporter": "python",
   "pygments_lexer": "ipython3",
   "version": "3.12.11"
  }
 },
 "nbformat": 4,
 "nbformat_minor": 2
}
